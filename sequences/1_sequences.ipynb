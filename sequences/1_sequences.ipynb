{
 "cells": [
  {
   "cell_type": "markdown",
   "metadata": {},
   "source": [
    "<h2 style=\"color:lightblue; font-size:40px;\">What is a sequence?</h2>\n",
    "\n",
    "<p style=\"color:green; font-size:25px;\">A sequence is an ordered collection of elements with the following characteristics:</p>\n",
    "\n",
    "<ul style=\"font-size:20px;\">\n",
    "  <li>Countable: A sequence is an ordered collection of elements.</li>\n",
    "  <li>Positional Ordering: Each element in a sequence is assigned a unique index, starting from 0.</li>\n",
    "  <li>Sequences can be of different types.</li>\n",
    "</ul>"
   ]
  },
  {
   "cell_type": "markdown",
   "metadata": {},
   "source": [
    "\n"
   ]
  },
  {
   "cell_type": "markdown",
   "metadata": {},
   "source": [
    "##### Built-In Sequence Types\n",
    "##### Mutable vs  Immutable Types\n",
    "| Category | Types |\n",
    "| --- | --- |\n",
    "| Mutable | Lists, Bytearrays |\n",
    "| Immutable | Strings, Tuples, Range, Bytes |\n",
    "| Additional Standard Types | Collections Package, Namedtuple, Deque, Array Module, Array |"
   ]
  },
  {
   "cell_type": "code",
   "execution_count": 6,
   "metadata": {},
   "outputs": [
    {
     "name": "stdout",
     "output_type": "stream",
     "text": [
      "item 0 is 1\n",
      "item 1 is 2\n",
      "item 2 is 3\n",
      "item 3 is 4\n",
      "item 4 is 5\n",
      "updated list is [2, 3, 4, 5, 6]\n"
     ]
    }
   ],
   "source": [
    "# Mutable\n",
    "list1 = [1,2,3,4,5]\n",
    "for i in range(len(list1)):\n",
    "    print(f'item {i} is {list1[i]}')\n",
    "    list1[i] += 1\n",
    "print(f'updated list is {list1}')"
   ]
  },
  {
   "cell_type": "code",
   "execution_count": 7,
   "metadata": {},
   "outputs": [
    {
     "name": "stdout",
     "output_type": "stream",
     "text": [
      "letter 0 is p\n",
      "letter 1 is y\n",
      "letter 2 is t\n",
      "letter 3 is h\n",
      "letter 4 is o\n",
      "letter 5 is n\n"
     ]
    },
    {
     "ename": "TypeError",
     "evalue": "'str' object does not support item assignment",
     "output_type": "error",
     "traceback": [
      "\u001b[1;31m---------------------------------------------------------------------------\u001b[0m",
      "\u001b[1;31mTypeError\u001b[0m                                 Traceback (most recent call last)",
      "\u001b[1;32m<ipython-input-7-fc9b89c905e4>\u001b[0m in \u001b[0;36m<module>\u001b[1;34m\u001b[0m\n\u001b[0;32m      4\u001b[0m     \u001b[0mprint\u001b[0m\u001b[1;33m(\u001b[0m\u001b[1;34mf'letter {i} is {name[i]}'\u001b[0m\u001b[1;33m)\u001b[0m\u001b[1;33m\u001b[0m\u001b[1;33m\u001b[0m\u001b[0m\n\u001b[0;32m      5\u001b[0m \u001b[1;33m\u001b[0m\u001b[0m\n\u001b[1;32m----> 6\u001b[1;33m \u001b[0mname\u001b[0m\u001b[1;33m[\u001b[0m\u001b[0mi\u001b[0m\u001b[1;33m]\u001b[0m \u001b[1;33m=\u001b[0m \u001b[1;34m'x'\u001b[0m \u001b[1;31m# TypeError: 'str' object does not support item assignment\u001b[0m\u001b[1;33m\u001b[0m\u001b[1;33m\u001b[0m\u001b[0m\n\u001b[0m",
      "\u001b[1;31mTypeError\u001b[0m: 'str' object does not support item assignment"
     ]
    }
   ],
   "source": [
    "# immutable\n",
    "name = 'python'\n",
    "for i in range(len(name)):\n",
    "    print(f'letter {i} is {name[i]}')\n",
    "\n",
    "name[i] = 'x' # TypeError: 'str' object does not support item assignment"
   ]
  },
  {
   "cell_type": "markdown",
   "metadata": {},
   "source": [
    "#### Homogenous vs Heterogeneous\n",
    "\n",
    "| Sequence Type | Description | Examples | Efficiency |\n",
    "| --- | --- | --- | --- |\n",
    "| Homogeneous | Each element is of the same type | Strings, Bytearrays, Arrays | Usually more efficient (storage-wise) |\n",
    "| Heterogeneous | Each element may be of a different type | Lists, Tuples, Namedtuples | - |"
   ]
  },
  {
   "cell_type": "code",
   "execution_count": 14,
   "metadata": {},
   "outputs": [
    {
     "name": "stdout",
     "output_type": "stream",
     "text": [
      "array('i', [1, 2, 3, 4, 5])\n",
      "(1, 'i', 3.14, [1, 2, 3])\n"
     ]
    }
   ],
   "source": [
    "import array\n",
    "a = array.array('i',[1,2,3,4,5]) # i is for integer\n",
    "print(a)\n",
    "\n",
    "a = (1,'i',3.14,[1,2,3] )  # tuple can have different types\n",
    "print(a)"
   ]
  },
  {
   "cell_type": "markdown",
   "metadata": {},
   "source": [
    "##### Iterable vs Sequence Types\n",
    "- Iterable: It is a container type object  and we can list out the elements in that object one by one.\n",
    "- All sequences are iterables, but all iterables are not sequences\n",
    "- Iterables need not support indexing\n",
    "- Ex: Set is an iterable but not a sequence. List is both iterable and a sequence type"
   ]
  },
  {
   "cell_type": "code",
   "execution_count": 16,
   "metadata": {},
   "outputs": [
    {
     "name": "stdout",
     "output_type": "stream",
     "text": [
      "1\n",
      "2\n",
      "3\n",
      "4\n",
      "5\n"
     ]
    }
   ],
   "source": [
    "s = {1,2,3,4,5}\n",
    "type(s)\n",
    "for num in s:\n",
    "    print(num) # supports iteration but not indexing"
   ]
  },
  {
   "cell_type": "markdown",
   "metadata": {},
   "source": [
    "#### Standard sequence methods\n",
    "\n",
    "- Built in sequence types, both immutable and mutable types support the below:\n",
    "\n",
    "| Method Name | Example | Explanation |\n",
    "| --- | --- | --- |\n",
    "| Concatenation | `s1 + s2` | Combines two sequences `s1` and `s2` into a single sequence |\n",
    "| Repetition | `s * n` | Repeats the sequence `s` `n` times |\n",
    "| Indexing | `s[i]` | Retrieves the element at index `i` from the sequence `s` |\n",
    "| Slicing | `s[i:j]` | Retrieves a slice of the sequence `s` from index `i` to `j` |\n",
    "| Length | `len(s)` | Returns the number of elements in the sequence `s` |\n",
    "| Min | `min(s)` | Returns the smallest element in the sequence `s` |\n",
    "| Max | `max(s)` | Returns the largest element in the sequence `s` |\n",
    "| Count | `s.count(x)` | Returns the number of occurrences of `x` in the sequence `s` |\n",
    "| Index | `s.index(x)` | Returns the index of the first occurrence of `x` in the sequence `s` |\n",
    "| Index with Start | `s.index(x, i)` | Returns the index of the first occurrence of `x` in the sequence `s`, starting the search at index `i` |\n",
    "| Index with Start and End | `s.index(x, i, j)` | Returns the index of the first occurrence of `x` in the sequence `s`, between index `i` and `j` |"
   ]
  },
  {
   "cell_type": "code",
   "execution_count": 20,
   "metadata": {},
   "outputs": [
    {
     "name": "stdout",
     "output_type": "stream",
     "text": [
      "s is [1, 2, 3, 4, 5, 6], max: 6, min: 1, sum: 21\n",
      "length 6, 2 in s: True, 10 not in s: True\n"
     ]
    }
   ],
   "source": [
    "# examples\n",
    "s1 = [1,2,3]\n",
    "s2 = [4,5,6]\n",
    "\n",
    "s = s1 + s2\n",
    "print(f's is {s}, max: {max(s)}, min: {min(s)}, sum: {sum(s)}')\n",
    "print(f'length {len(s)}, 2 in s: {2 in s}, 10 not in s: {10 not in s}')\n",
    "\n"
   ]
  },
  {
   "cell_type": "code",
   "execution_count": 23,
   "metadata": {},
   "outputs": [
    {
     "ename": "ValueError",
     "evalue": "substring not found",
     "output_type": "error",
     "traceback": [
      "\u001b[1;31m---------------------------------------------------------------------------\u001b[0m",
      "\u001b[1;31mValueError\u001b[0m                                Traceback (most recent call last)",
      "\u001b[1;32m<ipython-input-23-736c1b57be9f>\u001b[0m in \u001b[0;36m<module>\u001b[1;34m\u001b[0m\n\u001b[0;32m      1\u001b[0m \u001b[1;31m# indexing\u001b[0m\u001b[1;33m\u001b[0m\u001b[1;33m\u001b[0m\u001b[1;33m\u001b[0m\u001b[0m\n\u001b[0;32m      2\u001b[0m \u001b[0ms\u001b[0m \u001b[1;33m=\u001b[0m \u001b[1;34m'python'\u001b[0m\u001b[1;33m\u001b[0m\u001b[1;33m\u001b[0m\u001b[0m\n\u001b[1;32m----> 3\u001b[1;33m \u001b[0ms\u001b[0m\u001b[1;33m.\u001b[0m\u001b[0mindex\u001b[0m\u001b[1;33m(\u001b[0m\u001b[1;34m't'\u001b[0m\u001b[1;33m,\u001b[0m \u001b[1;36m3\u001b[0m\u001b[1;33m)\u001b[0m \u001b[1;31m# 2\u001b[0m\u001b[1;33m\u001b[0m\u001b[1;33m\u001b[0m\u001b[0m\n\u001b[0m",
      "\u001b[1;31mValueError\u001b[0m: substring not found"
     ]
    }
   ],
   "source": [
    "# indexing\n",
    "s = 'python'\n",
    "s.index('t', 3) # 2"
   ]
  },
  {
   "cell_type": "code",
   "execution_count": 25,
   "metadata": {},
   "outputs": [
    {
     "data": {
      "text/plain": [
       "4"
      ]
     },
     "execution_count": 25,
     "metadata": {},
     "output_type": "execute_result"
    }
   ],
   "source": [
    "s.index('o', 3, 6) "
   ]
  },
  {
   "cell_type": "code",
   "execution_count": 26,
   "metadata": {},
   "outputs": [
    {
     "name": "stdout",
     "output_type": "stream",
     "text": [
      "y\n",
      "yth\n",
      "yhn\n"
     ]
    }
   ],
   "source": [
    "# slicing\n",
    "s = 'python'\n",
    "print(s[1]) # y\n",
    "print(s[1:4]) # yth\n",
    "print(s[1:6:2]) # yhn"
   ]
  },
  {
   "cell_type": "code",
   "execution_count": 27,
   "metadata": {},
   "outputs": [
    {
     "name": "stdout",
     "output_type": "stream",
     "text": [
      "1708038724400\n",
      "<class 'str'> 1708084522416\n",
      "<class 'str'> 1708084456496\n"
     ]
    }
   ],
   "source": [
    "# each slice creates a new object\n",
    "# each slice returns same container type\n",
    "s = 'python'\n",
    "print(id(s))\n",
    "print(type(s[1:4]), id(s[1:4]))\n",
    "print(type(s[1:6:2]), id(s[1:6:2]))\n"
   ]
  },
  {
   "cell_type": "code",
   "execution_count": 30,
   "metadata": {},
   "outputs": [
    {
     "name": "stdout",
     "output_type": "stream",
     "text": [
      "range(0, 10)\n",
      "<class 'range'>\n",
      "[0, 1, 2, 3, 4, 5, 6, 7, 8, 9]\n",
      "[5, 6, 7, 8, 9]\n",
      "range(1, 4)\n",
      "0\n",
      "9\n",
      "2\n"
     ]
    }
   ],
   "source": [
    "# range function is restricted to integers\n",
    "# range(start, stop, step)\n",
    "r = range(10)\n",
    "print(r)\n",
    "print(type(r))\n",
    "print(list(r))\n",
    "print(list(range(5,10)))\n",
    "# range does not support slicing\n",
    "print(r[1:4]) # TypeError: 'range' object is not subscriptable\n",
    "# range supports indexing\n",
    "print(r[0]) # 0\n",
    "print(r[-1]) # 9\n",
    "print(r[2]) # 2"
   ]
  },
  {
   "cell_type": "code",
   "execution_count": 31,
   "metadata": {},
   "outputs": [
    {
     "data": {
      "text/plain": [
       "-1390277719187820"
      ]
     },
     "execution_count": 31,
     "metadata": {},
     "output_type": "execute_result"
    }
   ],
   "source": [
    "# hashing\n",
    "# hashable objects are immutable\n",
    "# hashable objects are comparable\n",
    "# hashable objects can be used as dictionary keys\n",
    "# hashable objects can be used as set elements\n",
    "# hashable objects support iteration\n",
    "# hashable objects support indexing\n",
    "# hashable objects support slicing\n",
    "s = 'python'\n",
    "hash(s) # -909279199"
   ]
  },
  {
   "cell_type": "code",
   "execution_count": 37,
   "metadata": {},
   "outputs": [
    {
     "name": "stdout",
     "output_type": "stream",
     "text": [
      "y is [[1, 2, 3], [1, 2, 3]], z is [[1, 2, 3], [1, 2, 3]]\n",
      "y is [[[10, 20, 30], 2, 3], [[10, 20, 30], 2, 3]], z is [[[10, 20, 30], 2, 3], [[10, 20, 30], 2, 3]]\n"
     ]
    }
   ],
   "source": [
    "# dangers of concatenation and repetion\n",
    "l = [[1,2,3]]\n",
    "y = l+l \n",
    "z = l*2\n",
    "print(f'y is {y}, z is {z}')\n",
    "l[0][0] = [10,20,30]\n",
    "print(f'y is {y}, z is {z}')"
   ]
  },
  {
   "cell_type": "code",
   "execution_count": null,
   "metadata": {},
   "outputs": [],
   "source": []
  }
 ],
 "metadata": {
  "kernelspec": {
   "display_name": "base",
   "language": "python",
   "name": "python3"
  },
  "language_info": {
   "codemirror_mode": {
    "name": "ipython",
    "version": 3
   },
   "file_extension": ".py",
   "mimetype": "text/x-python",
   "name": "python",
   "nbconvert_exporter": "python",
   "pygments_lexer": "ipython3",
   "version": "3.8.8"
  }
 },
 "nbformat": 4,
 "nbformat_minor": 2
}
