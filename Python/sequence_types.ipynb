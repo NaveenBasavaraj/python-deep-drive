{
 "cells": [
  {
   "cell_type": "markdown",
   "metadata": {},
   "source": []
  },
  {
   "cell_type": "markdown",
   "metadata": {},
   "source": [
    "# Sequence Types\n",
    "### What is a sequence ?\n",
    "\n",
    "In Math: Sequence s = x_1,x_2, x_3.... (<font  color = yellow>*countable*</font> sequence)\n",
    "\n",
    "Sequence of <font color = yellow>*Indices*</font>:1,2,3,4....\n",
    "\n",
    "We can refer to any item in the sequence by using it's <font color = yellow>*Index*</font> number: x_2 or s[2]\n",
    "\n",
    "<font color = yellow>Positional</font> Ordering: So we can this concept of <font color = yellow>first</font> element, second element....so on\n",
    "\n",
    "\n",
    "Python <font color = yellow>lists</font> have the concept of positional order, but <font color = yellow>sets</font> do not.\n",
    "Hence a <font color = yellow>list</font> is a  <font color = green>*sequence type*</font>. But a <font color = yellow>set</font> is not.\n",
    "\n",
    "In python, <font color = yellow>*Index*</font> numbers start from <font color = orange>0</font> and not <font color = orange>1</font>.\n",
    "\n",
    "i.e s = x_0, x_1,x_2... --> s[2] represents third element"
   ]
  },
  {
   "cell_type": "code",
   "execution_count": 2,
   "metadata": {},
   "outputs": [
    {
     "name": "stdout",
     "output_type": "stream",
     "text": [
      "3\n"
     ]
    }
   ],
   "source": [
    "s = [1,2,3,4,5,6]\n",
    "print(s[2])"
   ]
  },
  {
   "cell_type": "markdown",
   "metadata": {},
   "source": [
    "### Built-in Sequence Types\n",
    "\n",
    "<font color=blue> mutable </font> sequence types like lists, bytearrays\n",
    "\n",
    "<font color=blue> immutable </font> sequence types like strings, tuples, range, bytes\n",
    "\n",
    "(a tuple is more than just a sequence type. A range on the other hand is limited than lists, strings, tuples)\n",
    "\n",
    "#### standard types:\n",
    "\n",
    "<font color=green> collections </font> package --> <font color=blue> namedtuple, deque etc. </font>\n",
    "\n",
    "<font color=green> array </font> module --> <font color=blue> array etc. </font>\n"
   ]
  },
  {
   "cell_type": "code",
   "execution_count": 5,
   "metadata": {},
   "outputs": [
    {
     "data": {
      "text/plain": [
       "1"
      ]
     },
     "execution_count": 5,
     "metadata": {},
     "output_type": "execute_result"
    }
   ],
   "source": [
    "x = [1,1]\n",
    "max(x)\n",
    "min(x)"
   ]
  },
  {
   "cell_type": "code",
   "execution_count": null,
   "metadata": {},
   "outputs": [],
   "source": []
  }
 ],
 "metadata": {
  "kernelspec": {
   "display_name": "Python 3",
   "language": "python",
   "name": "python3"
  },
  "language_info": {
   "codemirror_mode": {
    "name": "ipython",
    "version": 3
   },
   "file_extension": ".py",
   "mimetype": "text/x-python",
   "name": "python",
   "nbconvert_exporter": "python",
   "pygments_lexer": "ipython3",
   "version": "3.11.1"
  }
 },
 "nbformat": 4,
 "nbformat_minor": 2
}
