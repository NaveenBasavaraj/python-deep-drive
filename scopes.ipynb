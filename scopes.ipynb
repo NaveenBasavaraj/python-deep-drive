{
 "cells": [
  {
   "cell_type": "markdown",
   "metadata": {},
   "source": [
    "1. the portion of code where the object reference/biding can be accessed is called scope of the object\n",
    "2. the references/bindings are stored in namespaces. each scope has its own namespace\n",
    "3. global scope refers to module scope. i.e the object can be used anywhere in the module.\n",
    "4. global keyword is used to change the global variable locally.\n",
    "5. local scope refers to scope within a function. \n",
    "6. non-local scope refers to free variables defined in nested functions. i.e the inner functions can access the varaibles defined in the outer function\n",
    "7. non-local keyword is used to change the variable just out the inner function.\n",
    "8. built-in scope referes to truly global scope, i.e objects like print() are available across all modules.\n"
   ]
  },
  {
   "cell_type": "code",
   "execution_count": 2,
   "metadata": {},
   "outputs": [
    {
     "name": "stdout",
     "output_type": "stream",
     "text": [
      "python\n",
      "before inner 2, x:  naveen\n",
      "after inner 2, x:  naveen\n",
      "naveen\n",
      "10\n"
     ]
    }
   ],
   "source": [
    "x = 5\n",
    "def outer():\n",
    "    x =\"python\"\n",
    "    def inner1():\n",
    "        nonlocal x\n",
    "        x = \"naveen\"\n",
    "        def inner2():\n",
    "            global x\n",
    "            x = 10\n",
    "        print(\"before inner 2, x: \", x)\n",
    "        inner2()\n",
    "        print(\"after inner 2, x: \", x)\n",
    "    print(x)\n",
    "    inner1()\n",
    "    print(x)\n",
    "outer()\n",
    "print(x)"
   ]
  },
  {
   "cell_type": "code",
   "execution_count": null,
   "metadata": {},
   "outputs": [],
   "source": []
  }
 ],
 "metadata": {
  "kernelspec": {
   "display_name": "Python 3",
   "language": "python",
   "name": "python3"
  },
  "language_info": {
   "codemirror_mode": {
    "name": "ipython",
    "version": 3
   },
   "file_extension": ".py",
   "mimetype": "text/x-python",
   "name": "python",
   "nbconvert_exporter": "python",
   "pygments_lexer": "ipython3",
   "version": "3.11.1"
  }
 },
 "nbformat": 4,
 "nbformat_minor": 2
}
