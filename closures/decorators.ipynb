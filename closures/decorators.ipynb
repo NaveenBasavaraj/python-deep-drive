{
 "cells": [
  {
   "cell_type": "code",
   "execution_count": 7,
   "metadata": {},
   "outputs": [
    {
     "name": "stdout",
     "output_type": "stream",
     "text": [
      "Function 'add' was called 1 times\n",
      "Function 'add' was called 2 times\n",
      "Function 'add' was called 3 times\n"
     ]
    }
   ],
   "source": [
    "def counter(fn):\n",
    "    count = 0\n",
    "    def inner(*args, **kwargs):\n",
    "        nonlocal count\n",
    "        count += 1\n",
    "        print(\"Function '{0}' was called {1} times\".format(fn.__name__, count))\n",
    "        return fn(*args, **kwargs)\n",
    "    return inner\n",
    "\n",
    "def add(a, b=0):\n",
    "    return a+b\n",
    "\n",
    "add = counter(add)\n",
    "for i in range(3):\n",
    "    result = add(1,2)\n",
    "    result"
   ]
  },
  {
   "cell_type": "markdown",
   "metadata": {},
   "source": [
    "A decorator function:\n",
    "* takes a function as a argument\n",
    "* returns a closure\n",
    "* the closure accepts any combination of parameters\n",
    "* runs some code in the inner function\n",
    "* the closure function calls the original function using the arguments passed to the closure\n",
    "* returns whatever is returned by that function call"
   ]
  },
  {
   "cell_type": "code",
   "execution_count": 10,
   "metadata": {},
   "outputs": [
    {
     "name": "stdout",
     "output_type": "stream",
     "text": [
      "entering func: run_something at 1172.708944 seconds\n",
      "exiting func: run_something in 0.00040360000002692686\n"
     ]
    },
    {
     "data": {
      "text/plain": [
       "100"
      ]
     },
     "execution_count": 10,
     "metadata": {},
     "output_type": "execute_result"
    }
   ],
   "source": [
    "import time\n",
    "def logger(fn):\n",
    "    count = 0\n",
    "    def inner(*args, **kwargs):\n",
    "        nonlocal count\n",
    "        count += 1\n",
    "        starttime = time.perf_counter()\n",
    "        print(f'entering func: {fn.__name__} at {starttime} seconds')\n",
    "        x = fn(*args, **kwargs)\n",
    "        print(f'exiting func: {fn.__name__} in {time.perf_counter() - starttime}')\n",
    "        return x\n",
    "    return inner\n",
    "\n",
    "@logger\n",
    "def run_something():\n",
    "    x = 0\n",
    "    for i in range(100):\n",
    "        x += 1\n",
    "    return x\n",
    "\n",
    "run_something()"
   ]
  },
  {
   "cell_type": "markdown",
   "metadata": {},
   "source": []
  }
 ],
 "metadata": {
  "kernelspec": {
   "display_name": "Python 3",
   "language": "python",
   "name": "python3"
  },
  "language_info": {
   "codemirror_mode": {
    "name": "ipython",
    "version": 3
   },
   "file_extension": ".py",
   "mimetype": "text/x-python",
   "name": "python",
   "nbconvert_exporter": "python",
   "pygments_lexer": "ipython3",
   "version": "3.11.1"
  }
 },
 "nbformat": 4,
 "nbformat_minor": 2
}
