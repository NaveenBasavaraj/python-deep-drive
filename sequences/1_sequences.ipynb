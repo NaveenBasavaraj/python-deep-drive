{
 "cells": [
  {
   "cell_type": "markdown",
   "metadata": {},
   "source": [
    "<h2 style=\"color:lightblue; font-size:40px;\">What is a sequence?</h2>\n",
    "\n",
    "<p style=\"color:green; font-size:25px;\">A sequence is an ordered collection of elements with the following characteristics:</p>\n",
    "\n",
    "<ul style=\"color:yellow; font-size:20px;\">\n",
    "  <li>Countable: A sequence is an ordered collection of elements.</li>\n",
    "  <li>Positional Ordering: Each element in a sequence is assigned a unique index, starting from 0.</li>\n",
    "  <li>Sequences can be of different types.</li>\n",
    "</ul>"
   ]
  },
  {
   "cell_type": "markdown",
   "metadata": {},
   "source": [
    "\n"
   ]
  },
  {
   "cell_type": "markdown",
   "metadata": {},
   "source": [
    "##### Built-In Sequence Types\n",
    "##### Mutable vs  Immutable Types\n",
    "| Category | Types |\n",
    "| --- | --- |\n",
    "| Mutable | Lists, Bytearrays |\n",
    "| Immutable | Strings, Tuples, Range, Bytes |\n",
    "| Additional Standard Types | Collections Package, Namedtuple, Deque, Array Module, Array |"
   ]
  },
  {
   "cell_type": "code",
   "execution_count": 6,
   "metadata": {},
   "outputs": [
    {
     "name": "stdout",
     "output_type": "stream",
     "text": [
      "item 0 is 1\n",
      "item 1 is 2\n",
      "item 2 is 3\n",
      "item 3 is 4\n",
      "item 4 is 5\n",
      "updated list is [2, 3, 4, 5, 6]\n"
     ]
    }
   ],
   "source": [
    "# Mutable\n",
    "list1 = [1,2,3,4,5]\n",
    "for i in range(len(list1)):\n",
    "    print(f'item {i} is {list1[i]}')\n",
    "    list1[i] += 1\n",
    "print(f'updated list is {list1}')"
   ]
  },
  {
   "cell_type": "code",
   "execution_count": 7,
   "metadata": {},
   "outputs": [
    {
     "name": "stdout",
     "output_type": "stream",
     "text": [
      "letter 0 is p\n",
      "letter 1 is y\n",
      "letter 2 is t\n",
      "letter 3 is h\n",
      "letter 4 is o\n",
      "letter 5 is n\n"
     ]
    },
    {
     "ename": "TypeError",
     "evalue": "'str' object does not support item assignment",
     "output_type": "error",
     "traceback": [
      "\u001b[1;31m---------------------------------------------------------------------------\u001b[0m",
      "\u001b[1;31mTypeError\u001b[0m                                 Traceback (most recent call last)",
      "\u001b[1;32m<ipython-input-7-fc9b89c905e4>\u001b[0m in \u001b[0;36m<module>\u001b[1;34m\u001b[0m\n\u001b[0;32m      4\u001b[0m     \u001b[0mprint\u001b[0m\u001b[1;33m(\u001b[0m\u001b[1;34mf'letter {i} is {name[i]}'\u001b[0m\u001b[1;33m)\u001b[0m\u001b[1;33m\u001b[0m\u001b[1;33m\u001b[0m\u001b[0m\n\u001b[0;32m      5\u001b[0m \u001b[1;33m\u001b[0m\u001b[0m\n\u001b[1;32m----> 6\u001b[1;33m \u001b[0mname\u001b[0m\u001b[1;33m[\u001b[0m\u001b[0mi\u001b[0m\u001b[1;33m]\u001b[0m \u001b[1;33m=\u001b[0m \u001b[1;34m'x'\u001b[0m \u001b[1;31m# TypeError: 'str' object does not support item assignment\u001b[0m\u001b[1;33m\u001b[0m\u001b[1;33m\u001b[0m\u001b[0m\n\u001b[0m",
      "\u001b[1;31mTypeError\u001b[0m: 'str' object does not support item assignment"
     ]
    }
   ],
   "source": [
    "# immutable\n",
    "name = 'python'\n",
    "for i in range(len(name)):\n",
    "    print(f'letter {i} is {name[i]}')\n",
    "\n",
    "name[i] = 'x' # TypeError: 'str' object does not support item assignment"
   ]
  },
  {
   "cell_type": "markdown",
   "metadata": {},
   "source": [
    "#### Homogenous vs Heterogeneous\n",
    "\n",
    "| Sequence Type | Description | Examples | Efficiency |\n",
    "| --- | --- | --- | --- |\n",
    "| Homogeneous | Each element is of the same type | Strings, Bytearrays, Arrays | Usually more efficient (storage-wise) |\n",
    "| Heterogeneous | Each element may be of a different type | Lists, Tuples, Namedtuples | - |"
   ]
  },
  {
   "cell_type": "code",
   "execution_count": 14,
   "metadata": {},
   "outputs": [
    {
     "name": "stdout",
     "output_type": "stream",
     "text": [
      "array('i', [1, 2, 3, 4, 5])\n",
      "(1, 'i', 3.14, [1, 2, 3])\n"
     ]
    }
   ],
   "source": [
    "import array\n",
    "a = array.array('i',[1,2,3,4,5]) # i is for integer\n",
    "print(a)\n",
    "\n",
    "a = (1,'i',3.14,[1,2,3] )  # tuple can have different types\n",
    "print(a)"
   ]
  },
  {
   "cell_type": "markdown",
   "metadata": {},
   "source": [
    "##### Iterable vs Sequence Types\n",
    "- Iterable: It is a container type object  and we can list out the elements in that object one by one.\n",
    "- All sequences are iterables, but all iterables are not sequences\n",
    "- Iterables need not support indexing\n",
    "- Ex: Set is an iterable but not a sequence. List is both iterable and a sequence type"
   ]
  },
  {
   "cell_type": "code",
   "execution_count": 16,
   "metadata": {},
   "outputs": [
    {
     "name": "stdout",
     "output_type": "stream",
     "text": [
      "1\n",
      "2\n",
      "3\n",
      "4\n",
      "5\n"
     ]
    }
   ],
   "source": [
    "s = {1,2,3,4,5}\n",
    "type(s)\n",
    "for num in s:\n",
    "    print(num) # supports iteration but not indexing"
   ]
  },
  {
   "cell_type": "markdown",
   "metadata": {},
   "source": [
    "#### Standard sequence methods\n",
    "\n",
    "- Built in sequence types, both immutable and mutable types support the below:\n",
    "\n",
    "| Method Name | Example | Explanation |\n",
    "| --- | --- | --- |\n",
    "| Concatenation | `s1 + s2` | Combines two sequences `s1` and `s2` into a single sequence |\n",
    "| Repetition | `s * n` | Repeats the sequence `s` `n` times |\n",
    "| Indexing | `s[i]` | Retrieves the element at index `i` from the sequence `s` |\n",
    "| Slicing | `s[i:j]` | Retrieves a slice of the sequence `s` from index `i` to `j` |\n",
    "| Length | `len(s)` | Returns the number of elements in the sequence `s` |\n",
    "| Min | `min(s)` | Returns the smallest element in the sequence `s` |\n",
    "| Max | `max(s)` | Returns the largest element in the sequence `s` |\n",
    "| Count | `s.count(x)` | Returns the number of occurrences of `x` in the sequence `s` |\n",
    "| Index | `s.index(x)` | Returns the index of the first occurrence of `x` in the sequence `s` |\n",
    "| Index with Start | `s.index(x, i)` | Returns the index of the first occurrence of `x` in the sequence `s`, starting the search at index `i` |\n",
    "| Index with Start and End | `s.index(x, i, j)` | Returns the index of the first occurrence of `x` in the sequence `s`, between index `i` and `j` |"
   ]
  },
  {
   "cell_type": "code",
   "execution_count": null,
   "metadata": {},
   "outputs": [],
   "source": []
  }
 ],
 "metadata": {
  "kernelspec": {
   "display_name": "base",
   "language": "python",
   "name": "python3"
  },
  "language_info": {
   "codemirror_mode": {
    "name": "ipython",
    "version": 3
   },
   "file_extension": ".py",
   "mimetype": "text/x-python",
   "name": "python",
   "nbconvert_exporter": "python",
   "pygments_lexer": "ipython3",
   "version": "3.8.8"
  }
 },
 "nbformat": 4,
 "nbformat_minor": 2
}
