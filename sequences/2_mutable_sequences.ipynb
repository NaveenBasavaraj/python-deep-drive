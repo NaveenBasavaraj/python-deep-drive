{
 "cells": [
  {
   "cell_type": "code",
   "execution_count": 3,
   "metadata": {},
   "outputs": [
    {
     "name": "stdout",
     "output_type": "stream",
     "text": [
      "2099670043840\n"
     ]
    }
   ],
   "source": [
    "names = ['eric', 'james']\n",
    "print(id(names))"
   ]
  },
  {
   "cell_type": "code",
   "execution_count": 4,
   "metadata": {},
   "outputs": [
    {
     "name": "stdout",
     "output_type": "stream",
     "text": [
      "names : ['eric', 'james', 'michael'] and id:2099670146752\n"
     ]
    }
   ],
   "source": [
    "names = names + ['michael']\n",
    "print(f\"names : {names} and id:{id(names)}\")\n",
    "# this is NOT mutation\n",
    "# this creates a new list object in a new memory address"
   ]
  },
  {
   "cell_type": "code",
   "execution_count": null,
   "metadata": {},
   "outputs": [],
   "source": [
    "# mutation is when object value changes and address does not\n",
    "\n",
    "# we can use append for the above changes\n",
    "list "
   ]
  }
 ],
 "metadata": {
  "kernelspec": {
   "display_name": "Python 3",
   "language": "python",
   "name": "python3"
  },
  "language_info": {
   "codemirror_mode": {
    "name": "ipython",
    "version": 3
   },
   "file_extension": ".py",
   "mimetype": "text/x-python",
   "name": "python",
   "nbconvert_exporter": "python",
   "pygments_lexer": "ipython3",
   "version": "3.11.1"
  }
 },
 "nbformat": 4,
 "nbformat_minor": 2
}
