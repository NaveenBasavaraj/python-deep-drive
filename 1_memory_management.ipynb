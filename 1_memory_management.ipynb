{
  "nbformat": 4,
  "nbformat_minor": 0,
  "metadata": {
    "colab": {
      "provenance": [],
      "authorship_tag": "ABX9TyN9kEwKW+DfaZdIu4+5/6Ch",
      "include_colab_link": true
    },
    "kernelspec": {
      "name": "python3",
      "display_name": "Python 3"
    },
    "language_info": {
      "name": "python"
    }
  },
  "cells": [
    {
      "cell_type": "markdown",
      "metadata": {
        "id": "view-in-github",
        "colab_type": "text"
      },
      "source": [
        "<a href=\"https://colab.research.google.com/github/NaveenBasavaraj/python-deep-drive/blob/main/1_memory_management.ipynb\" target=\"_parent\"><img src=\"https://colab.research.google.com/assets/colab-badge.svg\" alt=\"Open In Colab\"/></a>"
      ]
    },
    {
      "cell_type": "markdown",
      "source": [
        "## Topics:\n",
        "1. What are variables?\n",
        "2. Memory management\n",
        "3. Garbage Collection & Reference Counting\n",
        "4. Dynamic Vs Static typing\n",
        "5. Mutability vs Immutability\n",
        "6. Shared References\n",
        "7. Variable Equality\n",
        "8. Python Optimizations and Interning\n",
        "9. Everything is an Object"
      ],
      "metadata": {
        "id": "B0bx65CnUcKe"
      }
    },
    {
      "cell_type": "code",
      "source": [],
      "metadata": {
        "id": "SFMyc3BcUIT2"
      },
      "execution_count": null,
      "outputs": []
    }
  ]
}