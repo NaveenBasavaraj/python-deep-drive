{
 "cells": [
  {
   "cell_type": "code",
   "execution_count": null,
   "metadata": {},
   "outputs": [],
   "source": [
    "# list comprehension\n",
    "# create by TRANSFORMING - optionally FILTERING - another ITERABLE\n",
    "\n",
    "words = ['Life1','is2', 'a3', 'game4']\n",
    "new_list = [word[:-1] for word in words ]\n"
   ]
  }
 ],
 "metadata": {
  "language_info": {
   "name": "python"
  }
 },
 "nbformat": 4,
 "nbformat_minor": 2
}
