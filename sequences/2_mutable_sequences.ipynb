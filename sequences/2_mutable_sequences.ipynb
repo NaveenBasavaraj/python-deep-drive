{
 "cells": [
  {
   "cell_type": "code",
   "execution_count": 3,
   "metadata": {},
   "outputs": [
    {
     "name": "stdout",
     "output_type": "stream",
     "text": [
      "2099670043840\n"
     ]
    }
   ],
   "source": [
    "names = ['eric', 'james']\n",
    "print(id(names))"
   ]
  },
  {
   "cell_type": "code",
   "execution_count": 7,
   "metadata": {},
   "outputs": [
    {
     "name": "stdout",
     "output_type": "stream",
     "text": [
      "names : ['eric', 'james', 'michael', 'michael', 'michael', 'michael'] and id:2099675221120\n",
      "('eric', 'james', 'king')\n"
     ]
    }
   ],
   "source": [
    "names = names + ['michael']\n",
    "print(f\"names : {names} and id:{id(names)}\")\n",
    "# this is NOT mutation\n",
    "# this creates a new list object in a new memory address\n",
    "# hence we can perform this in immutable tuple object as well\n",
    "namest = ('eric','james')\n",
    "namest = namest + ('king',)\n",
    "print(namest)"
   ]
  },
  {
   "cell_type": "code",
   "execution_count": 10,
   "metadata": {},
   "outputs": [
    {
     "name": "stdout",
     "output_type": "stream",
     "text": [
      "2099675221120\n",
      "2099675221120\n"
     ]
    }
   ],
   "source": [
    "# mutation is when object value changes and address does not\n",
    "\n",
    "# we can use append for the above changes\n",
    "\n",
    "print(id(names)) # 2099675221120\n",
    "names.append('king') \n",
    "print(id(names)) # 2099675221120"
   ]
  },
  {
   "cell_type": "code",
   "execution_count": 14,
   "metadata": {},
   "outputs": [
    {
     "name": "stdout",
     "output_type": "stream",
     "text": [
      "['common', 'james', 'd', 'e', 'l', 'e', 't', 'e', 'e', 'king']\n",
      "['common', 'james', 'd', 'e', 'l', 'e', 't', 'e', 'e', 'e', 'king']\n"
     ]
    }
   ],
   "source": [
    "# mutation can be done using [] \n",
    "names[0] = 'common'\n",
    "print(names)\n",
    "names[2:7] = 'delete'\n",
    "print(names)\n",
    "del names[2:7]"
   ]
  },
  {
   "cell_type": "code",
   "execution_count": 18,
   "metadata": {},
   "outputs": [
    {
     "name": "stdout",
     "output_type": "stream",
     "text": [
      "['common', 'james', 'e', 'e', 'e', 'king']\n",
      "[]\n",
      "['blue', 'red', 'king', 'queen', 'e', 'e', 'e', 'james'] ['common', 'james', 'e', 'e', 'e', 'king']\n"
     ]
    }
   ],
   "source": [
    "\n",
    "# some methods for mutating\n",
    "print(names)\n",
    "namest = list(namest)\n",
    "namest.clear()\n",
    "print(namest)\n",
    "names2 = names.copy()\n",
    "namest.append('queen')\n",
    "names.insert(-1, 'queen')\n",
    "names.extend(['red','blue','yellow'])\n",
    "names.pop(-1)\n",
    "names.remove('common')\n",
    "names.reverse()\n",
    "print(names, names2)\n"
   ]
  },
  {
   "cell_type": "markdown",
   "metadata": {},
   "source": [
    "##### Copying Sequences"
   ]
  },
  {
   "cell_type": "code",
   "execution_count": 21,
   "metadata": {},
   "outputs": [
    {
     "name": "stdout",
     "output_type": "stream",
     "text": [
      "[1, 2, 3] [1, 2, 3]\n",
      "2099675596928 2099675526464\n"
     ]
    }
   ],
   "source": [
    "# The copy method creates a new method in the memory address\n",
    "s = [1,2,3]\n",
    "s2 = s.copy()\n",
    "print(s, s2)\n",
    "print(id(s), id(s2))\n"
   ]
  },
  {
   "cell_type": "code",
   "execution_count": 23,
   "metadata": {},
   "outputs": [
    {
     "name": "stdout",
     "output_type": "stream",
     "text": [
      "2099670228864 2099675511552 2099675510464\n",
      "2099670228864 2099675511552 2099675510464 2099675513792\n"
     ]
    }
   ],
   "source": [
    "# but what if we have list of mutable objects like lists\n",
    "l1 = [1,1,1]\n",
    "l2 = [2,2,2]\n",
    "l3 = [l1, l2]\n",
    "print(id(l1),id(l2), id(l3))\n",
    "l4 = l3.copy()\n",
    "print(id(l1),id(l2), id(l3), id(l4))"
   ]
  },
  {
   "cell_type": "code",
   "execution_count": 24,
   "metadata": {},
   "outputs": [
    {
     "data": {
      "text/plain": [
       "[[0, 1, 1], [0, 2, 2]]"
      ]
     },
     "execution_count": 24,
     "metadata": {},
     "output_type": "execute_result"
    }
   ],
   "source": [
    "# hence if l1 and l2 is mutated, l4 changes as well\n",
    "# this is called shallow copy\n",
    "l1[0] = 0\n",
    "l2[0] = 0\n",
    "l4"
   ]
  },
  {
   "cell_type": "code",
   "execution_count": 25,
   "metadata": {},
   "outputs": [
    {
     "name": "stdout",
     "output_type": "stream",
     "text": [
      "Help on function copy in module copy:\n",
      "\n",
      "copy(x)\n",
      "    Shallow copy operation on arbitrary Python objects.\n",
      "    \n",
      "    See the module's __doc__ string for more info.\n",
      "\n"
     ]
    }
   ],
   "source": [
    "# to avoid this we can use deepcopy\n",
    "from copy import deepcopy, copy\n",
    "help(copy)"
   ]
  },
  {
   "cell_type": "code",
   "execution_count": 26,
   "metadata": {},
   "outputs": [
    {
     "name": "stdout",
     "output_type": "stream",
     "text": [
      "Help on function deepcopy in module copy:\n",
      "\n",
      "deepcopy(x, memo=None, _nil=[])\n",
      "    Deep copy operation on arbitrary Python objects.\n",
      "    \n",
      "    See the module's __doc__ string for more info.\n",
      "\n"
     ]
    }
   ],
   "source": [
    "help(deepcopy)"
   ]
  },
  {
   "cell_type": "code",
   "execution_count": 28,
   "metadata": {},
   "outputs": [
    {
     "name": "stdout",
     "output_type": "stream",
     "text": [
      "[[0, 1, 1], [0, 2, 2]]\n",
      "[[0, 1, 1], [0, 2, 2]]\n"
     ]
    }
   ],
   "source": [
    "ls = [l1, l2]\n",
    "print(ls)\n",
    "ls2 = deepcopy(ls)\n",
    "l1[0] = l2[0] = 10\n",
    "print(ls2) # does not get affected by mutation of l1 and l2"
   ]
  },
  {
   "cell_type": "markdown",
   "metadata": {},
   "source": [
    "#### Slicing\n",
    "\n",
    "Mutable Sequences:\n",
    "1. Extract data\n",
    "2. Assign data\n",
    "\n",
    "Immutable sequences:\n",
    "1. Extract data only"
   ]
  },
  {
   "cell_type": "code",
   "execution_count": 40,
   "metadata": {},
   "outputs": [
    {
     "name": "stdout",
     "output_type": "stream",
     "text": [
      "[2, 3]\n",
      "[2, 1, 3, 4]\n"
     ]
    }
   ],
   "source": [
    "x = [1,2,3]\n",
    "x[0:2] = [2]\n",
    "print(x)\n",
    "x[0:2] = [2,1,3,4]\n",
    "print(x)\n",
    "x[1:2] = ('a','b','c','d','e')"
   ]
  },
  {
   "cell_type": "code",
   "execution_count": 41,
   "metadata": {},
   "outputs": [
    {
     "data": {
      "text/plain": [
       "[2, 'a', 'b', 'c', 'd', 'e', 3, 4]"
      ]
     },
     "execution_count": 41,
     "metadata": {},
     "output_type": "execute_result"
    }
   ],
   "source": [
    "x"
   ]
  },
  {
   "cell_type": "code",
   "execution_count": 42,
   "metadata": {},
   "outputs": [
    {
     "data": {
      "text/plain": [
       "[]"
      ]
     },
     "execution_count": 42,
     "metadata": {},
     "output_type": "execute_result"
    }
   ],
   "source": [
    "list()"
   ]
  },
  {
   "cell_type": "code",
   "execution_count": null,
   "metadata": {},
   "outputs": [],
   "source": []
  }
 ],
 "metadata": {
  "kernelspec": {
   "display_name": "Python 3",
   "language": "python",
   "name": "python3"
  },
  "language_info": {
   "codemirror_mode": {
    "name": "ipython",
    "version": 3
   },
   "file_extension": ".py",
   "mimetype": "text/x-python",
   "name": "python",
   "nbconvert_exporter": "python",
   "pygments_lexer": "ipython3",
   "version": "3.11.1"
  }
 },
 "nbformat": 4,
 "nbformat_minor": 2
}
