{
  "cells": [
    {
      "cell_type": "markdown",
      "metadata": {
        "colab_type": "text",
        "id": "view-in-github"
      },
      "source": [
        "<a href=\"https://colab.research.google.com/github/NaveenBasavaraj/python_deep_dive/blob/main/scikit_learn.ipynb\" target=\"_parent\"><img src=\"https://colab.research.google.com/assets/colab-badge.svg\" alt=\"Open In Colab\"/></a>"
      ]
    },
    {
      "cell_type": "code",
      "execution_count": 2,
      "metadata": {},
      "outputs": [],
      "source": [
        "from sklearn.datasets import load_boston"
      ]
    },
    {
      "cell_type": "code",
      "execution_count": 10,
      "metadata": {},
      "outputs": [],
      "source": [
        "X, y = load_boston(return_X_y=True)"
      ]
    },
    {
      "cell_type": "code",
      "execution_count": 11,
      "metadata": {},
      "outputs": [],
      "source": [
        "from sklearn.neighbors import KNeighborsRegressor"
      ]
    },
    {
      "cell_type": "code",
      "execution_count": 12,
      "metadata": {},
      "outputs": [
        {
          "data": {
            "text/plain": [
              "KNeighborsRegressor()"
            ]
          },
          "execution_count": 12,
          "metadata": {},
          "output_type": "execute_result"
        }
      ],
      "source": [
        "mod = KNeighborsRegressor()\n",
        "mod.fit(X, y)"
      ]
    },
    {
      "cell_type": "code",
      "execution_count": 13,
      "metadata": {},
      "outputs": [
        {
          "data": {
            "text/plain": [
              "array([21.78, 22.9 , 25.36, 26.06, 27.1 , 27.1 , 20.88, 19.1 , 18.4 ,\n",
              "       19.48, 19.28, 22.  , 24.34, 20.52, 24.66, 21.3 , 30.48, 20.4 ,\n",
              "       15.7 , 23.54, 16.82, 17.64, 18.3 , 17.08, 16.66, 15.1 , 16.78,\n",
              "       14.94, 19.94, 18.34, 14.1 , 16.82, 15.12, 14.1 , 15.12, 26.92,\n",
              "       22.14, 27.4 , 28.44, 31.88, 31.88, 25.36, 25.36, 24.22, 20.68,\n",
              "       20.44, 20.44, 18.1 , 18.1 , 24.  , 21.54, 24.  , 27.16, 27.16,\n",
              "       25.7 , 39.82, 27.08, 38.28, 24.8 , 25.64, 21.78, 33.6 , 21.78,\n",
              "       24.06, 31.74, 25.3 , 26.98, 22.18, 20.42, 20.42, 27.76, 29.5 ,\n",
              "       27.76, 27.76, 22.92, 21.64, 25.82, 21.64, 21.38, 22.02, 24.8 ,\n",
              "       21.88, 25.22, 25.64, 25.98, 25.98, 23.28, 25.98, 24.02, 25.58,\n",
              "       25.58, 25.06, 26.34, 26.04, 30.1 , 24.84, 23.62, 24.32, 28.52,\n",
              "       24.96, 22.1 , 22.2 , 15.34, 19.74, 19.74, 19.66, 19.56, 21.34,\n",
              "       19.66, 19.56, 22.08, 20.1 , 19.6 , 17.54, 20.1 , 17.7 , 20.2 ,\n",
              "       20.1 , 20.66, 19.8 , 22.76, 20.6 , 19.66, 18.52, 19.66, 20.6 ,\n",
              "       18.52, 16.62, 18.04, 16.88, 18.4 , 18.4 , 18.78, 18.56, 20.24,\n",
              "       17.44, 17.8 , 18.4 , 15.88, 17.06, 15.24, 14.76, 15.62, 15.62,\n",
              "       15.62, 18.26, 18.26, 15.62, 17.82, 17.44, 37.22, 20.66, 19.28,\n",
              "       20.24, 20.24, 15.34, 15.34, 37.78, 25.52, 32.08, 20.66, 42.56,\n",
              "       44.54, 44.54, 30.34, 20.24, 37.22, 19.52, 19.98, 20.24, 19.98,\n",
              "       18.74, 21.9 , 24.4 , 23.74, 25.82, 22.34, 24.2 , 23.84, 38.56,\n",
              "       33.24, 38.56, 33.24, 31.6 , 33.24, 38.56, 37.84, 32.72, 33.14,\n",
              "       32.72, 33.14, 32.72, 33.72, 31.8 , 31.8 , 34.9 , 26.78, 25.24,\n",
              "       26.78, 29.38, 29.5 , 25.2 , 25.3 , 41.28, 41.28, 23.76, 23.78,\n",
              "       20.74, 22.9 , 21.1 , 21.1 , 21.1 , 23.9 , 28.84, 22.6 , 27.28,\n",
              "       22.96, 21.9 , 21.1 , 23.38, 25.42, 17.32, 31.8 , 24.46, 37.82,\n",
              "       36.46, 36.14, 35.96, 29.5 , 29.44, 34.  , 41.28, 38.28, 38.16,\n",
              "       28.12, 29.3 , 34.12, 34.12, 21.44, 21.92, 21.44, 21.4 , 22.1 ,\n",
              "       21.74, 20.  , 19.68, 22.16, 20.  , 21.38, 31.22, 31.22, 26.28,\n",
              "       29.56, 31.22, 27.08, 24.86, 38.28, 42.44, 38.9 , 36.48, 38.82,\n",
              "       41.88, 41.88, 37.9 , 41.88, 34.6 , 38.82, 36.16, 32.42, 31.74,\n",
              "       32.58, 28.82, 31.74, 26.88, 31.96, 31.96, 31.96, 31.96, 31.96,\n",
              "       30.58, 31.74, 32.58, 36.62, 42.8 , 24.84, 21.88, 38.64, 21.88,\n",
              "       24.44, 22.62, 34.9 , 34.9 , 31.88, 24.54, 23.28, 24.44, 23.22,\n",
              "       22.94, 25.28, 29.12, 25.42, 25.78, 28.02, 30.58, 31.22, 27.02,\n",
              "       31.96, 27.02, 23.72, 21.6 , 29.  , 21.32, 21.02, 20.94, 21.44,\n",
              "       21.6 , 18.54, 19.52, 20.5 , 21.3 , 23.32, 23.76, 23.32, 22.9 ,\n",
              "       22.06, 23.76, 26.14, 22.06, 19.7 , 21.22, 19.92, 21.86, 22.98,\n",
              "       23.6 , 21.16, 20.78, 25.74, 24.3 , 20.72, 22.64, 24.32, 24.44,\n",
              "       19.8 , 29.36, 26.58, 19.  , 18.84, 26.48, 33.32, 25.78, 25.78,\n",
              "       28.  , 30.46, 42.8 , 20.96, 24.8 , 15.88, 19.06, 20.94, 21.42,\n",
              "       33.8 , 25.6 , 30.94, 25.6 , 27.22, 27.22, 16.98, 14.58, 39.16,\n",
              "       39.16, 26.46, 36.6 , 27.22, 11.36, 10.54, 10.82, 12.36, 12.5 ,\n",
              "        9.6 , 10.22,  6.86, 10.26, 11.62, 11.62, 14.16, 11.  ,  8.94,\n",
              "        9.74, 13.18, 12.5 , 13.52, 21.66, 11.88, 15.58, 11.74, 13.54,\n",
              "       13.98, 12.46,  8.5 , 14.82,  9.54, 11.14, 15.88, 10.5 , 14.28,\n",
              "        6.86, 13.18, 18.56, 14.52, 17.62, 10.34, 12.74, 11.88, 17.18,\n",
              "       10.92, 11.88, 11.2 , 14.58, 11.96, 10.44, 16.98, 16.98, 14.16,\n",
              "       13.58, 12.94, 11.74, 12.56, 10.26, 13.52, 11.58, 14.  , 12.6 ,\n",
              "       13.52, 13.3 , 12.9 , 12.16, 12.1 , 10.56, 12.12, 11.96, 10.6 ,\n",
              "       14.56, 13.84, 13.34, 13.44, 12.44, 16.98, 13.34, 14.48, 16.06,\n",
              "       13.58, 15.54, 17.04, 16.62, 12.54, 12.2 , 13.58, 12.94, 14.84,\n",
              "       20.24, 14.34, 19.82, 20.24, 20.38, 22.28, 17.56, 12.74, 18.56,\n",
              "       23.7 , 21.26, 20.24, 18.6 , 22.72, 23.28, 15.54, 16.06, 14.18,\n",
              "       14.96, 15.88, 16.36, 22.28, 22.72, 23.44, 20.86, 22.8 , 21.34,\n",
              "       21.42, 21.34, 17.04, 11.54, 12.28, 14.86, 18.3 , 22.08, 21.82,\n",
              "       22.02, 18.7 , 18.7 , 20.64, 18.7 , 19.96, 21.18, 23.12, 20.88,\n",
              "       21.9 , 21.42])"
            ]
          },
          "execution_count": 13,
          "metadata": {},
          "output_type": "execute_result"
        }
      ],
      "source": [
        "mod.predict(X)"
      ]
    },
    {
      "cell_type": "code",
      "execution_count": 14,
      "metadata": {},
      "outputs": [
        {
          "data": {
            "text/plain": [
              "array([30.00384338, 25.02556238, 30.56759672, 28.60703649, 27.94352423,\n",
              "       25.25628446, 23.00180827, 19.53598843, 11.52363685, 18.92026211,\n",
              "       18.99949651, 21.58679568, 20.90652153, 19.55290281, 19.28348205,\n",
              "       19.29748321, 20.52750979, 16.91140135, 16.17801106, 18.40613603,\n",
              "       12.52385753, 17.67103669, 15.83288129, 13.80628535, 15.67833832,\n",
              "       13.38668561, 15.46397655, 14.70847428, 19.54737285, 20.8764282 ,\n",
              "       11.45511759, 18.05923295,  8.81105736, 14.28275814, 13.70675891,\n",
              "       23.81463526, 22.34193708, 23.10891142, 22.91502612, 31.35762569,\n",
              "       34.21510225, 28.02056414, 25.20386628, 24.60979273, 22.94149176,\n",
              "       22.09669817, 20.42320032, 18.03655088,  9.10655377, 17.20607751,\n",
              "       21.28152535, 23.97222285, 27.6558508 , 24.04901809, 15.3618477 ,\n",
              "       31.15264947, 24.85686978, 33.10919806, 21.77537987, 21.08493555,\n",
              "       17.8725804 , 18.51110208, 23.98742856, 22.55408869, 23.37308644,\n",
              "       30.36148358, 25.53056512, 21.11338564, 17.42153786, 20.78483633,\n",
              "       25.20148859, 21.7426577 , 24.55744957, 24.04295712, 25.50499716,\n",
              "       23.9669302 , 22.94545403, 23.35699818, 21.26198266, 22.42817373,\n",
              "       28.40576968, 26.99486086, 26.03576297, 25.05873482, 24.78456674,\n",
              "       27.79049195, 22.16853423, 25.89276415, 30.67461827, 30.83110623,\n",
              "       27.1190194 , 27.41266734, 28.94122762, 29.08105546, 27.03977365,\n",
              "       28.62459949, 24.72744978, 35.78159518, 35.11454587, 32.25102801,\n",
              "       24.58022019, 25.59413475, 19.79013684, 20.31167129, 21.43482591,\n",
              "       18.53994008, 17.18755992, 20.75049026, 22.64829115, 19.7720367 ,\n",
              "       20.64965864, 26.52586744, 20.77323638, 20.71548315, 25.17208881,\n",
              "       20.43025591, 23.37724626, 23.69043261, 20.33578364, 20.79180873,\n",
              "       21.91632071, 22.47107777, 20.55738556, 16.36661977, 20.56099819,\n",
              "       22.48178446, 14.61706633, 15.17876684, 18.93868592, 14.05573285,\n",
              "       20.03527399, 19.41013402, 20.06191566, 15.75807673, 13.25645238,\n",
              "       17.26277735, 15.87841883, 19.36163954, 13.81483897, 16.44881475,\n",
              "       13.57141932,  3.98885508, 14.59495478, 12.1488148 ,  8.72822362,\n",
              "       12.03585343, 15.82082058,  8.5149902 ,  9.71844139, 14.80451374,\n",
              "       20.83858153, 18.30101169, 20.12282558, 17.28601894, 22.36600228,\n",
              "       20.10375923, 13.62125891, 33.25982697, 29.03017268, 25.56752769,\n",
              "       32.70827666, 36.77467015, 40.55765844, 41.84728168, 24.78867379,\n",
              "       25.37889238, 37.20347455, 23.08748747, 26.40273955, 26.65382114,\n",
              "       22.5551466 , 24.29082812, 22.97657219, 29.07194308, 26.5219434 ,\n",
              "       30.72209056, 25.61669307, 29.13740979, 31.43571968, 32.92231568,\n",
              "       34.72440464, 27.76552111, 33.88787321, 30.99238036, 22.71820008,\n",
              "       24.7664781 , 35.88497226, 33.42476722, 32.41199147, 34.51509949,\n",
              "       30.76109485, 30.28934141, 32.91918714, 32.11260771, 31.55871004,\n",
              "       40.84555721, 36.12770079, 32.6692081 , 34.70469116, 30.09345162,\n",
              "       30.64393906, 29.28719501, 37.07148392, 42.03193124, 43.18949844,\n",
              "       22.69034796, 23.68284712, 17.85447214, 23.49428992, 17.00587718,\n",
              "       22.39251096, 17.06042754, 22.73892921, 25.21942554, 11.11916737,\n",
              "       24.51049148, 26.60334775, 28.35518713, 24.91525464, 29.68652768,\n",
              "       33.18419746, 23.77456656, 32.14051958, 29.7458199 , 38.37102453,\n",
              "       39.81461867, 37.58605755, 32.3995325 , 35.45665242, 31.23411512,\n",
              "       24.48449227, 33.28837292, 38.0481048 , 37.16328631, 31.71383523,\n",
              "       25.26705571, 30.10010745, 32.71987156, 28.42717057, 28.42940678,\n",
              "       27.29375938, 23.74262478, 24.12007891, 27.40208414, 16.3285756 ,\n",
              "       13.39891261, 20.01638775, 19.86184428, 21.2883131 , 24.0798915 ,\n",
              "       24.20633547, 25.04215821, 24.91964007, 29.94563374, 23.97228316,\n",
              "       21.69580887, 37.51109239, 43.30239043, 36.48361421, 34.98988594,\n",
              "       34.81211508, 37.16631331, 40.98928501, 34.44634089, 35.83397547,\n",
              "       28.245743  , 31.22673593, 40.8395575 , 39.31792393, 25.70817905,\n",
              "       22.30295533, 27.20340972, 28.51169472, 35.47676598, 36.10639164,\n",
              "       33.79668274, 35.61085858, 34.83993382, 30.35192656, 35.30980701,\n",
              "       38.79756966, 34.33123186, 40.33963075, 44.67308339, 31.59689086,\n",
              "       27.3565923 , 20.10174154, 27.04206674, 27.2136458 , 26.91395839,\n",
              "       33.43563311, 34.40349633, 31.8333982 , 25.81783237, 24.42982348,\n",
              "       28.45764337, 27.36266999, 19.53928758, 29.11309844, 31.91054611,\n",
              "       30.77159449, 28.94275871, 28.88191022, 32.79887232, 33.20905456,\n",
              "       30.76831792, 35.56226857, 32.70905124, 28.64244237, 23.58965827,\n",
              "       18.54266897, 26.87889843, 23.28133979, 25.54580246, 25.48120057,\n",
              "       20.53909901, 17.61572573, 18.37581686, 24.29070277, 21.32529039,\n",
              "       24.88682244, 24.86937282, 22.86952447, 19.45123791, 25.11783401,\n",
              "       24.66786913, 23.68076177, 19.34089616, 21.17418105, 24.25249073,\n",
              "       21.59260894, 19.98446605, 23.33888   , 22.14060692, 21.55509929,\n",
              "       20.61872907, 20.16097176, 19.28490387, 22.1667232 , 21.24965774,\n",
              "       21.42939305, 30.32788796, 22.04734975, 27.70647912, 28.54794117,\n",
              "       16.54501121, 14.78359641, 25.27380082, 27.54205117, 22.14837562,\n",
              "       20.45944095, 20.54605423, 16.88063827, 25.40253506, 14.32486632,\n",
              "       16.59488462, 19.63704691, 22.71806607, 22.20218887, 19.20548057,\n",
              "       22.66616105, 18.93192618, 18.22846804, 20.23150811, 37.4944739 ,\n",
              "       14.28190734, 15.54286248, 10.83162324, 23.80072902, 32.6440736 ,\n",
              "       34.60684042, 24.94331333, 25.9998091 ,  6.126325  ,  0.77779806,\n",
              "       25.30713064, 17.74061065, 20.23274414, 15.83331301, 16.83512587,\n",
              "       14.36994825, 18.47682833, 13.4276828 , 13.06177512,  3.27918116,\n",
              "        8.06022171,  6.12842196,  5.6186481 ,  6.4519857 , 14.20764735,\n",
              "       17.21225183, 17.29887265,  9.89116643, 20.22124193, 17.94181175,\n",
              "       20.30445783, 19.29559075, 16.33632779,  6.55162319, 10.89016778,\n",
              "       11.88145871, 17.81174507, 18.26126587, 12.97948781,  7.37816361,\n",
              "        8.21115861,  8.06626193, 19.98294786, 13.70756369, 19.85268454,\n",
              "       15.22308298, 16.96071981,  1.71851807, 11.80578387, -4.28131071,\n",
              "        9.58376737, 13.36660811,  6.89562363,  6.14779852, 14.60661794,\n",
              "       19.6000267 , 18.12427476, 18.52177132, 13.1752861 , 14.62617624,\n",
              "        9.92374976, 16.34590647, 14.07519426, 14.25756243, 13.04234787,\n",
              "       18.15955693, 18.69554354, 21.527283  , 17.03141861, 15.96090435,\n",
              "       13.36141611, 14.52079384,  8.81976005,  4.86751102, 13.06591313,\n",
              "       12.70609699, 17.29558059, 18.740485  , 18.05901029, 11.51474683,\n",
              "       11.97400359, 17.68344618, 18.12695239, 17.5183465 , 17.22742507,\n",
              "       16.52271631, 19.41291095, 18.58215236, 22.48944791, 15.28000133,\n",
              "       15.82089335, 12.68725581, 12.8763379 , 17.18668531, 18.51247609,\n",
              "       19.04860533, 20.17208927, 19.7740732 , 22.42940768, 20.31911854,\n",
              "       17.88616253, 14.37478523, 16.94776851, 16.98405762, 18.58838397,\n",
              "       20.16719441, 22.97718032, 22.45580726, 25.57824627, 16.39147632,\n",
              "       16.1114628 , 20.534816  , 11.54272738, 19.20496304, 21.86276391,\n",
              "       23.46878866, 27.09887315, 28.56994302, 21.08398783, 19.45516196,\n",
              "       22.22225914, 19.65591961, 21.32536104, 11.85583717,  8.22386687,\n",
              "        3.66399672, 13.75908538, 15.93118545, 20.62662054, 20.61249414,\n",
              "       16.88541964, 14.01320787, 19.10854144, 21.29805174, 18.45498841,\n",
              "       20.46870847, 23.53334055, 22.37571892, 27.6274261 , 26.12796681,\n",
              "       22.34421229])"
            ]
          },
          "execution_count": 14,
          "metadata": {},
          "output_type": "execute_result"
        }
      ],
      "source": [
        "from sklearn.linear_model import LinearRegression\n",
        "modl =  LinearRegression()\n",
        "modl.fit(X, y)\n",
        "modl.predict(X)"
      ]
    },
    {
      "cell_type": "code",
      "execution_count": 15,
      "metadata": {},
      "outputs": [],
      "source": [
        "import matplotlib.pylab as plt"
      ]
    },
    {
      "cell_type": "code",
      "execution_count": 16,
      "metadata": {},
      "outputs": [
        {
          "data": {
            "text/plain": [
              "<matplotlib.collections.PathCollection at 0x218fea99b50>"
            ]
          },
          "execution_count": 16,
          "metadata": {},
          "output_type": "execute_result"
        },
        {
          "data": {
            "image/png": "[encoded data removed]",
            "text/plain": [
              "<Figure size 432x288 with 1 Axes>"
            ]
          },
          "metadata": {
            "needs_background": "light"
          },
          "output_type": "display_data"
        }
      ],
      "source": [
        "mod = KNeighborsRegressor().fit(X, y)\n",
        "pred = mod.predict(X)\n",
        "plt.scatter(pred,y)\n"
      ]
    },
    {
      "cell_type": "code",
      "execution_count": 17,
      "metadata": {},
      "outputs": [],
      "source": [
        "from sklearn.preprocessing import StandardScaler\n",
        "from sklearn.pipeline import Pipeline"
      ]
    },
    {
      "cell_type": "code",
      "execution_count": 23,
      "metadata": {},
      "outputs": [],
      "source": [
        "mod = KNeighborsRegressor().fit(X, y)\n",
        "pipe = Pipeline([(\"scale\", StandardScaler()),\n",
        "                 (\"model\", KNeighborsRegressor())])"
      ]
    },
    {
      "cell_type": "code",
      "execution_count": 25,
      "metadata": {},
      "outputs": [
        {
          "data": {
            "text/plain": [
              "<matplotlib.collections.PathCollection at 0x218fec38820>"
            ]
          },
          "execution_count": 25,
          "metadata": {},
          "output_type": "execute_result"
        },
        {
          "data": {
            "image/png": "[encoded data removed]",
            "text/plain": [
              "<Figure size 432x288 with 1 Axes>"
            ]
          },
          "metadata": {
            "needs_background": "light"
          },
          "output_type": "display_data"
        }
      ],
      "source": [
        "pipe.fit(X,y)\n",
        "pred = pipe.predict(X)\n",
        "plt.scatter(pred, y)"
      ]
    },
    {
      "cell_type": "code",
      "execution_count": null,
      "metadata": {},
      "outputs": [],
      "source": []
    },
    {
      "cell_type": "code",
      "execution_count": null,
      "metadata": {},
      "outputs": [],
      "source": []
    }
  ],
  "metadata": {
    "colab": {
      "authorship_tag": "ABX9TyPw/tYZljnKiWh0DS3Ykao3",
      "include_colab_link": true,
      "provenance": []
    },
    "kernelspec": {
      "display_name": "Python 3",
      "name": "python3"
    },
    "language_info": {
      "codemirror_mode": {
        "name": "ipython",
        "version": 3
      },
      "file_extension": ".py",
      "mimetype": "text/x-python",
      "name": "python",
      "nbconvert_exporter": "python",
      "pygments_lexer": "ipython3",
      "version": "3.8.8"
    }
  },
  "nbformat": 4,
  "nbformat_minor": 0
}
