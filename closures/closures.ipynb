{
 "cells": [
  {
   "cell_type": "code",
   "execution_count": 1,
   "metadata": {},
   "outputs": [],
   "source": [
    "# a standard closure\n",
    "def outer():\n",
    "    x = 'python' \n",
    "    def inner(): \n",
    "        print(x) # refers to the non local x\n",
    "    return inner\n",
    "\n",
    "fn = outer()\n",
    "\n",
    "# Here outer returns a closure\n",
    "# Closure has an function (inner in this case), enclosing a free variable"
   ]
  },
  {
   "cell_type": "code",
   "execution_count": 2,
   "metadata": {},
   "outputs": [
    {
     "data": {
      "text/plain": [
       "('x',)"
      ]
     },
     "execution_count": 2,
     "metadata": {},
     "output_type": "execute_result"
    }
   ],
   "source": [
    "fn.__code__.co_freevars"
   ]
  },
  {
   "cell_type": "code",
   "execution_count": 3,
   "metadata": {},
   "outputs": [
    {
     "data": {
      "text/plain": [
       "(<cell at 0x000002626336AC20: str object at 0x0000026260237130>,)"
      ]
     },
     "execution_count": 3,
     "metadata": {},
     "output_type": "execute_result"
    }
   ],
   "source": [
    "fn.__closure__"
   ]
  },
  {
   "cell_type": "code",
   "execution_count": 8,
   "metadata": {},
   "outputs": [
    {
     "name": "stdout",
     "output_type": "stream",
     "text": [
      "0x262634b6300\n"
     ]
    }
   ],
   "source": [
    "fn()"
   ]
  },
  {
   "cell_type": "code",
   "execution_count": 1,
   "metadata": {},
   "outputs": [
    {
     "name": "stdout",
     "output_type": "stream",
     "text": [
      "naveen before\n",
      "wassup during\n",
      "naveen after\n"
     ]
    }
   ],
   "source": [
    "def f1():\n",
    "    x = \"naveen\"\n",
    "    def f2():\n",
    "        x = \"wassup\"\n",
    "        print(f'{x} during')\n",
    "    print(f'{x} before')\n",
    "    f2()\n",
    "    print(f'{x} after')\n",
    "f1()"
   ]
  },
  {
   "cell_type": "code",
   "execution_count": 3,
   "metadata": {},
   "outputs": [
    {
     "name": "stdout",
     "output_type": "stream",
     "text": [
      "naveen before\n",
      "wassup during\n",
      "wassup after\n"
     ]
    }
   ],
   "source": [
    "def f1():\n",
    "    x = \"naveen\"\n",
    "    def f2():\n",
    "        nonlocal x \n",
    "        x = \"wassup\"\n",
    "        print(f'{x} during')\n",
    "    print(f'{x} before')\n",
    "    f2()\n",
    "    print(f'{x} after')\n",
    "f1()"
   ]
  },
  {
   "cell_type": "code",
   "execution_count": null,
   "metadata": {},
   "outputs": [],
   "source": []
  }
 ],
 "metadata": {
  "kernelspec": {
   "display_name": "Python 3",
   "language": "python",
   "name": "python3"
  },
  "language_info": {
   "codemirror_mode": {
    "name": "ipython",
    "version": 3
   },
   "file_extension": ".py",
   "mimetype": "text/x-python",
   "name": "python",
   "nbconvert_exporter": "python",
   "pygments_lexer": "ipython3",
   "version": "3.11.1"
  }
 },
 "nbformat": 4,
 "nbformat_minor": 2
}
