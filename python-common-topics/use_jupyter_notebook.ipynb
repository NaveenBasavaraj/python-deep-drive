{
 "cells": [
  {
   "cell_type": "markdown",
   "metadata": {},
   "source": [
    "\n",
    "<h1>Header 1 Using Html Tags</h1>\n",
    "<h2>Header 2</h2>\n",
    "<h3>Header 3</h3>\n",
    "\n",
    "# Header 1 Using Hash Tags\n",
    "## Header 2\n",
    "### Header 3\n",
    "\n",
    "####### We can go up to six hashtags only"
   ]
  },
  {
   "cell_type": "markdown",
   "metadata": {},
   "source": []
  },
  {
   "cell_type": "markdown",
   "metadata": {},
   "source": [
    "**Adding Bold Text With Asterix**\n",
    "\n",
    "<b>Adding Bold Text Using HTML</bold>"
   ]
  },
  {
   "cell_type": "markdown",
   "metadata": {},
   "source": [
    "Numbered List of Animals:\n",
    "1. Elephant\n",
    "2. Cat\n",
    "    1. Mountain Lion\n",
    "3. Lion\n",
    "\n",
    "Bullet list of Animals:\n",
    "* Elephant\n",
    "* Cat\n",
    "    * Mountain Lion\n",
    "* Zebra"
   ]
  },
  {
   "cell_type": "markdown",
   "metadata": {},
   "source": [
    "Greater Than or Equal To:$$\\geq$$\n",
    "Less Than or Equal To:$$\\leq$$"
   ]
  },
  {
   "cell_type": "markdown",
   "metadata": {},
   "source": []
  },
  {
   "cell_type": "markdown",
   "metadata": {},
   "source": []
  }
 ],
 "metadata": {
  "kernelspec": {
   "display_name": "Python 3",
   "language": "python",
   "name": "python3"
  },
  "language_info": {
   "codemirror_mode": {
    "name": "ipython",
    "version": 3
   },
   "file_extension": ".py",
   "mimetype": "text/x-python",
   "name": "python",
   "nbconvert_exporter": "python",
   "pygments_lexer": "ipython3",
   "version": "3.11.1"
  }
 },
 "nbformat": 4,
 "nbformat_minor": 2
}
